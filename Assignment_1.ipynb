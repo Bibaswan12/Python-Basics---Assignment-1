{
  "nbformat": 4,
  "nbformat_minor": 0,
  "metadata": {
    "colab": {
      "provenance": []
    },
    "kernelspec": {
      "name": "python3",
      "display_name": "Python 3"
    },
    "language_info": {
      "name": "python"
    }
  },
  "cells": [
    {
      "cell_type": "markdown",
      "source": [
        "##1. In the below elements which of them are values or an expression? eg:- values can be\n",
        "##integer or string and expressions will be mathematical operators.\n",
        "\n",
        "*\n",
        "\n",
        "'hello'\n",
        "\n",
        "-87.8\n",
        "\n",
        "-\n",
        "\n",
        "/\n",
        "\n",
        "+\n",
        "\n",
        "6\n",
        "\n",
        "##Answer - \n",
        "\n",
        "Arithmatic Operator\n",
        "\n",
        "String Value\n",
        "\n",
        "Float Value\n",
        "\n",
        "Arithmatic Operator\n",
        "\n",
        "Arithmatic Operator\n",
        "\n",
        "Arithmatic Operator\n",
        "\n",
        "Integer"
      ],
      "metadata": {
        "id": "Jxd_y-iZOk-f"
      }
    },
    {
      "cell_type": "markdown",
      "source": [
        "##2. What is the difference between string and variable?\n",
        "\n",
        "##Answer - \n",
        "\n",
        " String is usually words / texts which start and end with quotes (\")  .\n",
        "\n",
        " ex- \"Hello \"\n",
        "\n",
        " Variable in which we can store data.\n",
        "\n",
        " ex - \n",
        "\n",
        " A = 5\n",
        "\n",
        " Here A is a variable."
      ],
      "metadata": {
        "id": "zLPOcUL_SZ6L"
      }
    },
    {
      "cell_type": "markdown",
      "source": [
        "##3. Describe three different data types.\n",
        "\n",
        "##Answer - \n",
        "\n",
        "     1-Integer\n",
        "     2-Float\n",
        "     3-Boolean\n",
        "\n",
        "        \n",
        "        1 |  Integer - 1,5,6,87\n",
        "        2 |  Float   - 5.5 , 62.8\n",
        "        3 |  Boolean - True,false"
      ],
      "metadata": {
        "id": "tDfHEskxVEIm"
      }
    },
    {
      "cell_type": "markdown",
      "source": [
        "##4. What is an expression made up of? What do all expressions do?\n",
        "\n",
        "##Answer - \n",
        "\n",
        "An expression is a combination of values , variables and operators.\n",
        "\n",
        "An arithmatic expression evaluates to a single arithmatic value .\n",
        "\n",
        "A charecter expression evaluates to a single value of type charcter .\n",
        "\n",
        "A logical expression evaluates to a single logical value .\n"
      ],
      "metadata": {
        "id": "6RSkBPFOWMRb"
      }
    },
    {
      "cell_type": "markdown",
      "source": [
        "##5. This assignment statements, like spam = 10. What is the difference between an expression and a statement?\n",
        "\n",
        "##Answer - \n",
        "\n",
        "A statement is an instruction that the python interpreter can execute.\n",
        "\n",
        "An expression evaluates to a single value."
      ],
      "metadata": {
        "id": "Ywc0kR_yZL_Z"
      }
    },
    {
      "cell_type": "markdown",
      "source": [
        "##6. After running the following code, what does the variable bacon contain?\n",
        "##bacon = 22\n",
        "\n",
        "##bacon + 1\n",
        "\n",
        "##Answer - \n",
        "\n",
        "The variable bacon will contain  22 .\n",
        "\n",
        "Because here bacon+1 expression doesnot reassign the value in bacon.If we want to reassign we have to write - bacon = bacon + 1"
      ],
      "metadata": {
        "id": "0tKY6pMwaVNl"
      }
    },
    {
      "cell_type": "markdown",
      "source": [
        "##7. What should the values of the following two terms be?\n",
        "\n",
        "###'spam' + 'spamspam'\n",
        "\n",
        "###'spam'*3\n",
        "\n",
        "##Answer - \n",
        "\n",
        "##Both will give output  - 'spamspamspam'"
      ],
      "metadata": {
        "id": "MJSMoZfxbjaE"
      }
    },
    {
      "cell_type": "markdown",
      "source": [
        "##8. Why is eggs a valid variable name while 100 is invalid?\n",
        "\n",
        "##Answer - \n",
        "\n",
        "Variable name can not start with a number ."
      ],
      "metadata": {
        "id": "qjYDhpqHcnQ_"
      }
    },
    {
      "cell_type": "markdown",
      "source": [
        "##9. What three functions can be used to get the integer, floating-point number, or string version of a value?\n",
        "\n",
        "##Answer - \n",
        "\n",
        "\n",
        "For Integer  we use int()\n",
        "\n",
        "For Floating-point number we use float()\n",
        "\n",
        "For String version we use str()\n",
        "\n",
        "Integer   |   int() \n",
        "\n",
        "Float     |   float()\n",
        "\n",
        "String    |   str()"
      ],
      "metadata": {
        "id": "mU7PBtICdGTC"
      }
    },
    {
      "cell_type": "markdown",
      "source": [
        "##10. Why does this expression cause an error? How can you fix it?\n",
        "## 'I have eaten' + 99 + 'burritos.'\n",
        "\n",
        "###Answer - \n",
        "\n",
        "The expression causes error because here 99 is an integer . Only strings can be concatenated to other strings with + operator .\n",
        "\n",
        "##correction\n",
        "\n",
        "'I have eaten' + '99' + 'burritos.' \n",
        "\n",
        "'I have eaten' + str(99) + 'burritos.'"
      ],
      "metadata": {
        "id": "RQ8Pj0iYeu-g"
      }
    },
    {
      "cell_type": "code",
      "source": [],
      "metadata": {
        "id": "0Bm6C5Q5hH8g"
      },
      "execution_count": 27,
      "outputs": []
    }
  ]
}